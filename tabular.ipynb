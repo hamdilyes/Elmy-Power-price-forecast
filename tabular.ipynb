{
 "cells": [
  {
   "cell_type": "code",
   "execution_count": 1,
   "metadata": {},
   "outputs": [
    {
     "name": "stderr",
     "output_type": "stream",
     "text": [
      "c:\\Users\\ilyes\\anaconda3\\lib\\site-packages\\pandas\\core\\computation\\expressions.py:21: UserWarning: Pandas requires version '2.8.4' or newer of 'numexpr' (version '2.8.3' currently installed).\n",
      "  from pandas.core.computation.check import NUMEXPR_INSTALLED\n",
      "c:\\Users\\ilyes\\anaconda3\\lib\\site-packages\\pandas\\core\\arrays\\masked.py:60: UserWarning: Pandas requires version '1.3.6' or newer of 'bottleneck' (version '1.3.5' currently installed).\n",
      "  from pandas.core import (\n"
     ]
    }
   ],
   "source": [
    "import pandas as pd\n",
    "import numpy as np\n",
    "from sklearn.metrics import mean_squared_error, mean_absolute_error\n",
    "import holidays\n",
    "from autogluon.tabular import TabularDataset, TabularPredictor"
   ]
  },
  {
   "cell_type": "code",
   "execution_count": 2,
   "metadata": {},
   "outputs": [],
   "source": [
    "X_test = pd.read_csv('X_test_GgyECq8.csv')\n",
    "X_train = pd.read_csv('X_train_Wwou3IE.csv')\n",
    "y_train = pd.read_csv('y_train_jJtXgMX.csv')\n",
    "y_pred = pd.read_csv('y_random_pt8afo8.csv')"
   ]
  },
  {
   "cell_type": "code",
   "execution_count": 3,
   "metadata": {},
   "outputs": [],
   "source": [
    "def compute_weighted_accuracy(y_actual, y_pred):\n",
    "    # If y_actual is a DataFrame, extract the 'spot_id_delta' column, otherwise assume it's already a numpy array\n",
    "    if isinstance(y_actual, pd.DataFrame):\n",
    "        actual = y_actual[\"spot_id_delta\"].values\n",
    "    else:\n",
    "        actual = y_actual\n",
    "    \n",
    "    # If y_pred is a DataFrame, extract the 'spot_id_delta' column, otherwise assume it's already a numpy array\n",
    "    if isinstance(y_pred, pd.DataFrame):\n",
    "        predicted = y_pred[\"spot_id_delta\"].values\n",
    "    else:\n",
    "        predicted = y_pred\n",
    "    \n",
    "    # actual = y_actual[\"spot_id_delta\"].values\n",
    "    # predicted = y_pred[\"spot_id_delta\"].values\n",
    "\n",
    "    correct_direction = (np.sign(actual) == np.sign(predicted)).astype(int)\n",
    "\n",
    "    weights = np.abs(actual)\n",
    "\n",
    "    weighted_accuracy = np.sum(correct_direction * weights) / np.sum(weights)\n",
    "\n",
    "    return round(weighted_accuracy, 2)"
   ]
  },
  {
   "cell_type": "code",
   "execution_count": 4,
   "metadata": {},
   "outputs": [],
   "source": [
    "def preprocess_data(df):\n",
    "    # Ensure 'DELIVERY_START' is set as the index with timezone handling\n",
    "    if 'DELIVERY_START' in df.columns:\n",
    "        df['DELIVERY_START'] = pd.to_datetime(df['DELIVERY_START'], utc=True)  # Parse with timezone info\n",
    "        df = df.set_index('DELIVERY_START')\n",
    "        df.index = df.index.tz_convert('Europe/Berlin')  # Adjust to desired timezone, if needed\n",
    "\n",
    "    # Add time-related features\n",
    "    df['hour'] = df.index.hour\n",
    "    df['dayofweek'] = df.index.dayofweek\n",
    "    df['month'] = df.index.month\n",
    "\n",
    "    # Handle missing values by filling with the mean of each column\n",
    "    df = df.fillna(df.mean())\n",
    "\n",
    "    df = pd.get_dummies(df, drop_first=True)  # Encode categorical variables\n",
    "\n",
    "    # Drop unwanted columns\n",
    "    df = df.drop(columns=['predicted_spot_price'], errors='ignore')\n",
    "\n",
    "    df['delta_load'] = df['load_forecast'] - (df['coal_power_available']+df['gas_power_available']+\n",
    "                                              df['nucelear_power_available']+df['wind_power_forecasts_average']+\n",
    "                                              df['solar_power_forecasts_average'])\n",
    "\n",
    "    df['delta_load_wo_renewables'] = df['load_forecast'] - (df['coal_power_available']+df['gas_power_available']+\n",
    "                                              df['nucelear_power_available'])\n",
    "    \n",
    "    df['renewables_share'] = (df['wind_power_forecasts_average']+df['solar_power_forecasts_average']) / (df['coal_power_available']+df['gas_power_available']+\n",
    "                                              df['nucelear_power_available']+df['wind_power_forecasts_average']+\n",
    "                                              df['solar_power_forecasts_average'])\n",
    "        \n",
    "    df['wind_share'] = df['wind_power_forecasts_average'] / (df['coal_power_available']+df['gas_power_available']+\n",
    "                                              df['nucelear_power_available']+df['wind_power_forecasts_average']+\n",
    "                                              df['solar_power_forecasts_average'])\n",
    "    \n",
    "    df['facteur_de_charge'] = (df['coal_power_available'] + df['gas_power_available'] + \n",
    "                               df['nucelear_power_available'] + df['wind_power_forecasts_average'] + \n",
    "                               df['solar_power_forecasts_average']) / (df['coal_power_available'].max() + \n",
    "                                                                        df['gas_power_available'].max() + \n",
    "                                                                        df['nucelear_power_available'].max() + \n",
    "                                                                        df['wind_power_forecasts_average'].max() + \n",
    "                                                                        df['solar_power_forecasts_average'].max())\n",
    "\n",
    "    df['cyclicite_demand'] = df['load_forecast'] * np.sin(242 * np.pi * df['hour'] / 24)\n",
    "\n",
    "    return df\n",
    "\n",
    "def preprocess_y(y):\n",
    "    # Ensure 'DELIVERY_START' is set as the index\n",
    "    if 'DELIVERY_START' in y.columns:\n",
    "        y['DELIVERY_START'] = pd.to_datetime(y['DELIVERY_START'], utc=True)  # Parse with timezone info\n",
    "        y = y.set_index('DELIVERY_START')\n",
    "        y.index = y.index.tz_convert('Europe/Berlin')  # Adjust to desired timezone\n",
    "\n",
    "    return y\n",
    "\n",
    "def split_train_data(X, y):\n",
    "    # Ensure indices align during split\n",
    "    split_size = len(X) // 3\n",
    "    X_train1, X_train2, X_train3 = X.iloc[:split_size], X.iloc[split_size:2*split_size], X.iloc[2*split_size:]\n",
    "    y_train1, y_train2, y_train3 = y.iloc[:split_size], y.iloc[split_size:2*split_size], y.iloc[2*split_size:]\n",
    "    return X_train1, X_train2, X_train3, y_train1, y_train2, y_train3\n",
    "\n",
    "def evaluate_model(model, X, y_actual):\n",
    "    # Predict on the given dataset\n",
    "    predictions = model.predict(X)\n",
    "    # Use custom weighted accuracy\n",
    "    y_pred_df = pd.DataFrame(predictions, index=X.index, columns=[\"spot_id_delta\"])\n",
    "    weighted_acc = compute_weighted_accuracy(y_actual, y_pred_df)\n",
    "\n",
    "    mse = mean_squared_error(y_actual, predictions)\n",
    "    mae = mean_absolute_error(y_actual, predictions)\n",
    "    return mse, mae, weighted_acc\n",
    "\n",
    "def launch(X_train, y_train, X_test):\n",
    "    # Preprocess X_train and X_test\n",
    "    X_train = preprocess_data(X_train)\n",
    "    X_test = preprocess_data(X_test)\n",
    "\n",
    "    # Preprocess y_train (only index adjustment)\n",
    "    y_train = preprocess_y(y_train)\n",
    "\n",
    "    # AutoGluon\n",
    "    train_data = TabularDataset(X_train.copy())\n",
    "    target = y_train.columns[0]\n",
    "    train_data[target] = y_train\n",
    "    model = TabularPredictor(label=target, verbosity=0).fit(train_data)\n",
    "\n",
    "    # Prepare test data\n",
    "    test_data = TabularDataset(X_test.copy())\n",
    "    y_pred = model.predict(test_data)\n",
    "    y_pred = pd.DataFrame(y_pred)\n",
    "\n",
    "    # Train data predictions\n",
    "    y_pred_train = model.predict(train_data.drop(columns=[target]))\n",
    "    y_pred_train = pd.DataFrame(y_pred_train)\n",
    "\n",
    "    # Save predictions\n",
    "    y_pred.columns = [\"spot_id_delta\"]\n",
    "    y_pred.reset_index(inplace=True)\n",
    "    # y_pred.to_csv('y_pred_test.csv', index=False)\n",
    "\n",
    "    print(evaluate_model(model, X_train, y_train))\n",
    "\n",
    "    print(model.leaderboard(test_data))\n",
    "\n",
    "    return X_test, model, y_pred"
   ]
  },
  {
   "cell_type": "code",
   "execution_count": null,
   "metadata": {},
   "outputs": [
    {
     "name": "stderr",
     "output_type": "stream",
     "text": [
      "\tWarning: Exception caused LightGBMXT to fail during training... Skipping this model.\n",
      "\t\tmodule 'pandas.core.strings' has no attribute 'StringMethods'\n",
      "\tWarning: Exception caused LightGBM to fail during training... Skipping this model.\n",
      "\t\tmodule 'pandas.core.strings' has no attribute 'StringMethods'\n"
     ]
    }
   ],
   "source": [
    "# Execute the pipeline\n",
    "X_test, model, y_pred_test = launch(X_train, y_train, X_test)"
   ]
  }
 ],
 "metadata": {
  "kernelspec": {
   "display_name": "base",
   "language": "python",
   "name": "python3"
  },
  "language_info": {
   "codemirror_mode": {
    "name": "ipython",
    "version": 3
   },
   "file_extension": ".py",
   "mimetype": "text/x-python",
   "name": "python",
   "nbconvert_exporter": "python",
   "pygments_lexer": "ipython3",
   "version": "3.9.13"
  }
 },
 "nbformat": 4,
 "nbformat_minor": 2
}
